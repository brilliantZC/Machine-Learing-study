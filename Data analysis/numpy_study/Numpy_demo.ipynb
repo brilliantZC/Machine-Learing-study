{
 "cells": [
  {
   "cell_type": "code",
   "execution_count": 11,
   "id": "c7b4bc68",
   "metadata": {},
   "outputs": [],
   "source": [
    "import numpy as np"
   ]
  },
  {
   "cell_type": "code",
   "execution_count": 12,
   "id": "1c302849",
   "metadata": {},
   "outputs": [],
   "source": [
    "score = np.array([[80, 89, 86, 67, 79],\n",
    "[78, 97, 89, 67, 81],\n",
    "[90, 94, 78, 67, 74],\n",
    "[91, 91, 90, 67, 69],\n",
    "[76, 87, 75, 67, 86],\n",
    "[70, 79, 84, 67, 84],\n",
    "[94, 92, 93, 67, 64],\n",
    "[86, 85, 83, 67, 80]])"
   ]
  },
  {
   "cell_type": "code",
   "execution_count": 13,
   "id": "c63f0e21",
   "metadata": {},
   "outputs": [
    {
     "data": {
      "text/plain": [
       "numpy.ndarray"
      ]
     },
     "execution_count": 13,
     "metadata": {},
     "output_type": "execute_result"
    }
   ],
   "source": [
    "type(score)"
   ]
  },
  {
   "cell_type": "markdown",
   "id": "6f57139b",
   "metadata": {},
   "source": [
    "## ndarray与Python原生list运算效率对比"
   ]
  },
  {
   "cell_type": "code",
   "execution_count": 14,
   "id": "8bd6b170",
   "metadata": {},
   "outputs": [],
   "source": [
    "import time\n",
    "import random"
   ]
  },
  {
   "cell_type": "code",
   "execution_count": 15,
   "id": "2e933902",
   "metadata": {},
   "outputs": [],
   "source": [
    "# 生成一个大数组\n",
    "python_list = []\n",
    "\n",
    "for i in range(100000000):\n",
    "    python_list.append(random.random())"
   ]
  },
  {
   "cell_type": "code",
   "execution_count": 16,
   "id": "f6d524f0",
   "metadata": {},
   "outputs": [],
   "source": [
    "ndarray_list = np.array(python_list)"
   ]
  },
  {
   "cell_type": "code",
   "execution_count": 17,
   "id": "f4ce3c59",
   "metadata": {},
   "outputs": [
    {
     "data": {
      "text/plain": [
       "100000000"
      ]
     },
     "execution_count": 17,
     "metadata": {},
     "output_type": "execute_result"
    }
   ],
   "source": [
    "len(ndarray_list)"
   ]
  },
  {
   "cell_type": "code",
   "execution_count": 18,
   "id": "b5057fbb",
   "metadata": {},
   "outputs": [],
   "source": [
    "# 原生pythonlist求和\n",
    "t1 = time.time()\n",
    "a = sum(python_list)\n",
    "t2 = time.time()\n",
    "d1 = t2 - t1\n",
    "\n",
    "# ndarray求和\n",
    "t3 = time.time()\n",
    "b = np.sum(ndarray_list)\n",
    "t4 = time.time()\n",
    "d2 = t4 - t3\n"
   ]
  },
  {
   "cell_type": "code",
   "execution_count": 19,
   "id": "f5efa74d",
   "metadata": {},
   "outputs": [
    {
     "data": {
      "text/plain": [
       "0.5089993476867676"
      ]
     },
     "execution_count": 19,
     "metadata": {},
     "output_type": "execute_result"
    }
   ],
   "source": [
    "d1"
   ]
  },
  {
   "cell_type": "code",
   "execution_count": 20,
   "id": "f4e7f397",
   "metadata": {},
   "outputs": [
    {
     "data": {
      "text/plain": [
       "0.1260228157043457"
      ]
     },
     "execution_count": 20,
     "metadata": {},
     "output_type": "execute_result"
    }
   ],
   "source": [
    "d2"
   ]
  },
  {
   "cell_type": "markdown",
   "id": "76c94749",
   "metadata": {},
   "source": [
    "### ndarray的属性"
   ]
  },
  {
   "cell_type": "code",
   "execution_count": 21,
   "id": "8e6dca36",
   "metadata": {},
   "outputs": [
    {
     "data": {
      "text/plain": [
       "array([[80, 89, 86, 67, 79],\n",
       "       [78, 97, 89, 67, 81],\n",
       "       [90, 94, 78, 67, 74],\n",
       "       [91, 91, 90, 67, 69],\n",
       "       [76, 87, 75, 67, 86],\n",
       "       [70, 79, 84, 67, 84],\n",
       "       [94, 92, 93, 67, 64],\n",
       "       [86, 85, 83, 67, 80]])"
      ]
     },
     "execution_count": 21,
     "metadata": {},
     "output_type": "execute_result"
    }
   ],
   "source": [
    "score"
   ]
  },
  {
   "cell_type": "code",
   "execution_count": 22,
   "id": "88c29b2c",
   "metadata": {},
   "outputs": [
    {
     "data": {
      "text/plain": [
       "(8, 5)"
      ]
     },
     "execution_count": 22,
     "metadata": {},
     "output_type": "execute_result"
    }
   ],
   "source": [
    "score.shape"
   ]
  },
  {
   "cell_type": "code",
   "execution_count": 23,
   "id": "59d163f3",
   "metadata": {},
   "outputs": [
    {
     "data": {
      "text/plain": [
       "2"
      ]
     },
     "execution_count": 23,
     "metadata": {},
     "output_type": "execute_result"
    }
   ],
   "source": [
    "score.ndim"
   ]
  },
  {
   "cell_type": "code",
   "execution_count": 24,
   "id": "bdba0f2a",
   "metadata": {},
   "outputs": [
    {
     "data": {
      "text/plain": [
       "40"
      ]
     },
     "execution_count": 24,
     "metadata": {},
     "output_type": "execute_result"
    }
   ],
   "source": [
    "score.size"
   ]
  },
  {
   "cell_type": "code",
   "execution_count": 25,
   "id": "fd4affc5",
   "metadata": {},
   "outputs": [
    {
     "data": {
      "text/plain": [
       "dtype('int32')"
      ]
     },
     "execution_count": 25,
     "metadata": {},
     "output_type": "execute_result"
    }
   ],
   "source": [
    "score.dtype"
   ]
  },
  {
   "cell_type": "code",
   "execution_count": 26,
   "id": "55655d93",
   "metadata": {},
   "outputs": [
    {
     "data": {
      "text/plain": [
       "4"
      ]
     },
     "execution_count": 26,
     "metadata": {},
     "output_type": "execute_result"
    }
   ],
   "source": [
    "score.itemsize"
   ]
  },
  {
   "cell_type": "markdown",
   "id": "71451405",
   "metadata": {},
   "source": [
    "### ndarray的形状"
   ]
  },
  {
   "cell_type": "code",
   "execution_count": 27,
   "id": "6459668b",
   "metadata": {},
   "outputs": [],
   "source": [
    "a = np.array([[1,2,3],[4,5,6]])\n",
    "b = np.array([1,2,3,4])\n",
    "c = np.array([[[1,2,3],[4,5,6]],[[1,2,3],[4,5,6]]])"
   ]
  },
  {
   "cell_type": "code",
   "execution_count": 28,
   "id": "3f5aba0c",
   "metadata": {},
   "outputs": [
    {
     "data": {
      "text/plain": [
       "array([[1, 2, 3],\n",
       "       [4, 5, 6]])"
      ]
     },
     "execution_count": 28,
     "metadata": {},
     "output_type": "execute_result"
    }
   ],
   "source": [
    "a # (2 ,3)"
   ]
  },
  {
   "cell_type": "code",
   "execution_count": 29,
   "id": "66d93fb8",
   "metadata": {},
   "outputs": [
    {
     "data": {
      "text/plain": [
       "array([1, 2, 3, 4])"
      ]
     },
     "execution_count": 29,
     "metadata": {},
     "output_type": "execute_result"
    }
   ],
   "source": [
    "b  # (4 ,)"
   ]
  },
  {
   "cell_type": "code",
   "execution_count": 30,
   "id": "aa65547d",
   "metadata": {},
   "outputs": [
    {
     "data": {
      "text/plain": [
       "array([[[1, 2, 3],\n",
       "        [4, 5, 6]],\n",
       "\n",
       "       [[1, 2, 3],\n",
       "        [4, 5, 6]]])"
      ]
     },
     "execution_count": 30,
     "metadata": {},
     "output_type": "execute_result"
    }
   ],
   "source": [
    "c  # (2 ,2 ,3)"
   ]
  },
  {
   "cell_type": "markdown",
   "id": "83118f7e",
   "metadata": {},
   "source": [
    "### ndarray的类型"
   ]
  },
  {
   "cell_type": "code",
   "execution_count": 31,
   "id": "4318461d",
   "metadata": {},
   "outputs": [],
   "source": [
    "data = np.array([1.1, 2.2, 3.3])"
   ]
  },
  {
   "cell_type": "code",
   "execution_count": 32,
   "id": "2b6451fe",
   "metadata": {},
   "outputs": [
    {
     "data": {
      "text/plain": [
       "array([1.1, 2.2, 3.3])"
      ]
     },
     "execution_count": 32,
     "metadata": {},
     "output_type": "execute_result"
    }
   ],
   "source": [
    "data"
   ]
  },
  {
   "cell_type": "code",
   "execution_count": 33,
   "id": "25d323c8",
   "metadata": {},
   "outputs": [
    {
     "data": {
      "text/plain": [
       "dtype('float64')"
      ]
     },
     "execution_count": 33,
     "metadata": {},
     "output_type": "execute_result"
    }
   ],
   "source": [
    "data.dtype"
   ]
  },
  {
   "cell_type": "code",
   "execution_count": 34,
   "id": "11da74e0",
   "metadata": {},
   "outputs": [
    {
     "data": {
      "text/plain": [
       "array([1.1, 2.2, 3.3], dtype=float32)"
      ]
     },
     "execution_count": 34,
     "metadata": {},
     "output_type": "execute_result"
    }
   ],
   "source": [
    "# 创建数组的时候指定\n",
    "np.array([1.1, 2.2, 3.3], dtype=\"float32\")"
   ]
  },
  {
   "cell_type": "code",
   "execution_count": 35,
   "id": "5fb0741f",
   "metadata": {},
   "outputs": [
    {
     "data": {
      "text/plain": [
       "array([1.1, 2.2, 3.3], dtype=float32)"
      ]
     },
     "execution_count": 35,
     "metadata": {},
     "output_type": "execute_result"
    }
   ],
   "source": [
    "np.array([1.1, 2.2, 3.3], dtype=np.float32)"
   ]
  },
  {
   "cell_type": "markdown",
   "id": "7a71d436",
   "metadata": {},
   "source": [
    "## 基本操作"
   ]
  },
  {
   "cell_type": "markdown",
   "id": "bee42cab",
   "metadata": {},
   "source": [
    "### 1、生成数组"
   ]
  },
  {
   "cell_type": "code",
   "execution_count": 36,
   "id": "52572eba",
   "metadata": {},
   "outputs": [
    {
     "data": {
      "text/plain": [
       "array([[0., 0., 0., 0.],\n",
       "       [0., 0., 0., 0.],\n",
       "       [0., 0., 0., 0.]], dtype=float32)"
      ]
     },
     "execution_count": 36,
     "metadata": {},
     "output_type": "execute_result"
    }
   ],
   "source": [
    "# 生成0和1的数组\n",
    "np.zeros(shape = (3,4),dtype = \"float32\")"
   ]
  },
  {
   "cell_type": "code",
   "execution_count": 37,
   "id": "571ab453",
   "metadata": {},
   "outputs": [
    {
     "data": {
      "text/plain": [
       "array([[1, 1, 1],\n",
       "       [1, 1, 1]])"
      ]
     },
     "execution_count": 37,
     "metadata": {},
     "output_type": "execute_result"
    }
   ],
   "source": [
    "np.ones(shape=[2,3],dtype = np.int32)"
   ]
  },
  {
   "cell_type": "markdown",
   "id": "32015298",
   "metadata": {},
   "source": [
    "### 2、从现有数组生成"
   ]
  },
  {
   "cell_type": "code",
   "execution_count": 38,
   "id": "2def935c",
   "metadata": {},
   "outputs": [
    {
     "data": {
      "text/plain": [
       "array([[80, 89, 86, 67, 79],\n",
       "       [78, 97, 89, 67, 81],\n",
       "       [90, 94, 78, 67, 74],\n",
       "       [91, 91, 90, 67, 69],\n",
       "       [76, 87, 75, 67, 86],\n",
       "       [70, 79, 84, 67, 84],\n",
       "       [94, 92, 93, 67, 64],\n",
       "       [86, 85, 83, 67, 80]])"
      ]
     },
     "execution_count": 38,
     "metadata": {},
     "output_type": "execute_result"
    }
   ],
   "source": [
    "score"
   ]
  },
  {
   "cell_type": "code",
   "execution_count": 39,
   "id": "34279d20",
   "metadata": {},
   "outputs": [],
   "source": [
    "# np.array()\n",
    "data1 = np.array(score)"
   ]
  },
  {
   "cell_type": "code",
   "execution_count": 40,
   "id": "551cd6e6",
   "metadata": {},
   "outputs": [
    {
     "data": {
      "text/plain": [
       "array([[80, 89, 86, 67, 79],\n",
       "       [78, 97, 89, 67, 81],\n",
       "       [90, 94, 78, 67, 74],\n",
       "       [91, 91, 90, 67, 69],\n",
       "       [76, 87, 75, 67, 86],\n",
       "       [70, 79, 84, 67, 84],\n",
       "       [94, 92, 93, 67, 64],\n",
       "       [86, 85, 83, 67, 80]])"
      ]
     },
     "execution_count": 40,
     "metadata": {},
     "output_type": "execute_result"
    }
   ],
   "source": [
    "data1"
   ]
  },
  {
   "cell_type": "code",
   "execution_count": 41,
   "id": "0eced463",
   "metadata": {},
   "outputs": [],
   "source": [
    "# np.asarray()\n",
    "data2 = np.asarray(score)"
   ]
  },
  {
   "cell_type": "code",
   "execution_count": 42,
   "id": "a7b74eae",
   "metadata": {},
   "outputs": [
    {
     "data": {
      "text/plain": [
       "array([[80, 89, 86, 67, 79],\n",
       "       [78, 97, 89, 67, 81],\n",
       "       [90, 94, 78, 67, 74],\n",
       "       [91, 91, 90, 67, 69],\n",
       "       [76, 87, 75, 67, 86],\n",
       "       [70, 79, 84, 67, 84],\n",
       "       [94, 92, 93, 67, 64],\n",
       "       [86, 85, 83, 67, 80]])"
      ]
     },
     "execution_count": 42,
     "metadata": {},
     "output_type": "execute_result"
    }
   ],
   "source": [
    "data2"
   ]
  },
  {
   "cell_type": "code",
   "execution_count": 43,
   "id": "1364a1bf",
   "metadata": {},
   "outputs": [],
   "source": [
    "# np.copy()\n",
    "data3 = np.copy(score)"
   ]
  },
  {
   "cell_type": "code",
   "execution_count": 44,
   "id": "7a1d2d66",
   "metadata": {},
   "outputs": [
    {
     "data": {
      "text/plain": [
       "array([[80, 89, 86, 67, 79],\n",
       "       [78, 97, 89, 67, 81],\n",
       "       [90, 94, 78, 67, 74],\n",
       "       [91, 91, 90, 67, 69],\n",
       "       [76, 87, 75, 67, 86],\n",
       "       [70, 79, 84, 67, 84],\n",
       "       [94, 92, 93, 67, 64],\n",
       "       [86, 85, 83, 67, 80]])"
      ]
     },
     "execution_count": 44,
     "metadata": {},
     "output_type": "execute_result"
    }
   ],
   "source": [
    "data3"
   ]
  },
  {
   "cell_type": "code",
   "execution_count": 45,
   "id": "a4d6e400",
   "metadata": {},
   "outputs": [],
   "source": [
    "score[3,1]=1000"
   ]
  },
  {
   "cell_type": "code",
   "execution_count": 46,
   "id": "63dab222",
   "metadata": {},
   "outputs": [
    {
     "data": {
      "text/plain": [
       "array([[  80,   89,   86,   67,   79],\n",
       "       [  78,   97,   89,   67,   81],\n",
       "       [  90,   94,   78,   67,   74],\n",
       "       [  91, 1000,   90,   67,   69],\n",
       "       [  76,   87,   75,   67,   86],\n",
       "       [  70,   79,   84,   67,   84],\n",
       "       [  94,   92,   93,   67,   64],\n",
       "       [  86,   85,   83,   67,   80]])"
      ]
     },
     "execution_count": 46,
     "metadata": {},
     "output_type": "execute_result"
    }
   ],
   "source": [
    "score"
   ]
  },
  {
   "cell_type": "code",
   "execution_count": 47,
   "id": "49a5a4fc",
   "metadata": {},
   "outputs": [
    {
     "data": {
      "text/plain": [
       "array([[80, 89, 86, 67, 79],\n",
       "       [78, 97, 89, 67, 81],\n",
       "       [90, 94, 78, 67, 74],\n",
       "       [91, 91, 90, 67, 69],\n",
       "       [76, 87, 75, 67, 86],\n",
       "       [70, 79, 84, 67, 84],\n",
       "       [94, 92, 93, 67, 64],\n",
       "       [86, 85, 83, 67, 80]])"
      ]
     },
     "execution_count": 47,
     "metadata": {},
     "output_type": "execute_result"
    }
   ],
   "source": [
    "data1"
   ]
  },
  {
   "cell_type": "code",
   "execution_count": 48,
   "id": "a25b361f",
   "metadata": {},
   "outputs": [
    {
     "data": {
      "text/plain": [
       "array([[  80,   89,   86,   67,   79],\n",
       "       [  78,   97,   89,   67,   81],\n",
       "       [  90,   94,   78,   67,   74],\n",
       "       [  91, 1000,   90,   67,   69],\n",
       "       [  76,   87,   75,   67,   86],\n",
       "       [  70,   79,   84,   67,   84],\n",
       "       [  94,   92,   93,   67,   64],\n",
       "       [  86,   85,   83,   67,   80]])"
      ]
     },
     "execution_count": 48,
     "metadata": {},
     "output_type": "execute_result"
    }
   ],
   "source": [
    "data2"
   ]
  },
  {
   "cell_type": "code",
   "execution_count": 49,
   "id": "c8c66af1",
   "metadata": {},
   "outputs": [
    {
     "data": {
      "text/plain": [
       "array([[80, 89, 86, 67, 79],\n",
       "       [78, 97, 89, 67, 81],\n",
       "       [90, 94, 78, 67, 74],\n",
       "       [91, 91, 90, 67, 69],\n",
       "       [76, 87, 75, 67, 86],\n",
       "       [70, 79, 84, 67, 84],\n",
       "       [94, 92, 93, 67, 64],\n",
       "       [86, 85, 83, 67, 80]])"
      ]
     },
     "execution_count": 49,
     "metadata": {},
     "output_type": "execute_result"
    }
   ],
   "source": [
    "data3"
   ]
  },
  {
   "cell_type": "markdown",
   "id": "581a5daa",
   "metadata": {},
   "source": [
    "### 3、生成固定范维数组"
   ]
  },
  {
   "cell_type": "code",
   "execution_count": 50,
   "id": "1ba16676",
   "metadata": {},
   "outputs": [
    {
     "data": {
      "text/plain": [
       "array([ 0. ,  2.5,  5. ,  7.5, 10. ])"
      ]
     },
     "execution_count": 50,
     "metadata": {},
     "output_type": "execute_result"
    }
   ],
   "source": [
    "np.linspace(0,10,5)"
   ]
  },
  {
   "cell_type": "code",
   "execution_count": 51,
   "id": "1582a93d",
   "metadata": {},
   "outputs": [
    {
     "data": {
      "text/plain": [
       "array([ 0,  5, 10])"
      ]
     },
     "execution_count": 51,
     "metadata": {},
     "output_type": "execute_result"
    }
   ],
   "source": [
    "np.arange(0,11,5)"
   ]
  },
  {
   "cell_type": "markdown",
   "id": "bb59d0ca",
   "metadata": {},
   "source": [
    "### 4、生成随机数组"
   ]
  },
  {
   "cell_type": "code",
   "execution_count": 52,
   "id": "9e42bdd7",
   "metadata": {},
   "outputs": [],
   "source": [
    "# 均匀分布（每组的可能性相等）\n",
    "data1 = np.random.uniform(low=-1,high=1,size=1000000)"
   ]
  },
  {
   "cell_type": "code",
   "execution_count": 53,
   "id": "19ec4752",
   "metadata": {},
   "outputs": [
    {
     "data": {
      "text/plain": [
       "array([-0.92031741, -0.62289692,  0.25428543, ...,  0.04127617,\n",
       "        0.37874482,  0.08088114])"
      ]
     },
     "execution_count": 53,
     "metadata": {},
     "output_type": "execute_result"
    }
   ],
   "source": [
    "data1"
   ]
  },
  {
   "cell_type": "code",
   "execution_count": 54,
   "id": "08df5882",
   "metadata": {},
   "outputs": [
    {
     "data": {
      "image/png": "[encoded data removed]",
      "text/plain": [
       "<Figure size 1600x640 with 1 Axes>"
      ]
     },
     "metadata": {
      "needs_background": "light"
     },
     "output_type": "display_data"
    }
   ],
   "source": [
    "import matplotlib.pyplot as plt\n",
    "\n",
    "plt.figure(figsize=(20,8),dpi=80)\n",
    "\n",
    "plt.hist(data1,1000)\n",
    "\n",
    "plt.show()"
   ]
  },
  {
   "cell_type": "code",
   "execution_count": 55,
   "id": "fa611722",
   "metadata": {},
   "outputs": [],
   "source": [
    "# 正态分布\n",
    "data2 = np.random.normal(loc=1.75,scale=0.1,size=1000000)"
   ]
  },
  {
   "cell_type": "code",
   "execution_count": 56,
   "id": "ad1ee891",
   "metadata": {},
   "outputs": [
    {
     "data": {
      "image/png": "[encoded data removed]",
      "text/plain": [
       "<Figure size 1600x640 with 1 Axes>"
      ]
     },
     "metadata": {
      "needs_background": "light"
     },
     "output_type": "display_data"
    }
   ],
   "source": [
    "plt.figure(figsize=(20,8),dpi=80)\n",
    "\n",
    "plt.hist(data2,1000)\n",
    "\n",
    "plt.show()"
   ]
  },
  {
   "cell_type": "markdown",
   "id": "7dc94302",
   "metadata": {},
   "source": [
    "## 案例：随机生成8只股票2周的交易日涨幅数据"
   ]
  },
  {
   "cell_type": "code",
   "execution_count": 57,
   "id": "f8a1e0eb",
   "metadata": {},
   "outputs": [],
   "source": [
    "stock_change = np.random.normal(loc=0,scale=1,size=(8,10))"
   ]
  },
  {
   "cell_type": "code",
   "execution_count": 58,
   "id": "0fd6b912",
   "metadata": {},
   "outputs": [
    {
     "data": {
      "text/plain": [
       "array([ 0.25594949, -1.37141501, -0.41852423])"
      ]
     },
     "execution_count": 58,
     "metadata": {},
     "output_type": "execute_result"
    }
   ],
   "source": [
    "# 获取第一个股票的前3个交易日的涨跌幅数据\n",
    "stock_change[0,:3]"
   ]
  },
  {
   "cell_type": "code",
   "execution_count": 59,
   "id": "fb558ae6",
   "metadata": {},
   "outputs": [],
   "source": [
    "a1 = np.array([[[1,2,3],[4,5,6]],[[12,3,34],[5,6,7]]])"
   ]
  },
  {
   "cell_type": "code",
   "execution_count": 60,
   "id": "a3c338ff",
   "metadata": {},
   "outputs": [
    {
     "data": {
      "text/plain": [
       "array([[[ 1,  2,  3],\n",
       "        [ 4,  5,  6]],\n",
       "\n",
       "       [[12,  3, 34],\n",
       "        [ 5,  6,  7]]])"
      ]
     },
     "execution_count": 60,
     "metadata": {},
     "output_type": "execute_result"
    }
   ],
   "source": [
    "a1  # （2，2，3）"
   ]
  },
  {
   "cell_type": "code",
   "execution_count": 61,
   "id": "8a108f83",
   "metadata": {},
   "outputs": [
    {
     "data": {
      "text/plain": [
       "(2, 2, 3)"
      ]
     },
     "execution_count": 61,
     "metadata": {},
     "output_type": "execute_result"
    }
   ],
   "source": [
    "a1.shape"
   ]
  },
  {
   "cell_type": "code",
   "execution_count": 62,
   "id": "fa23623d",
   "metadata": {},
   "outputs": [],
   "source": [
    "a1[1,0,2]=1000"
   ]
  },
  {
   "cell_type": "code",
   "execution_count": 63,
   "id": "02f73656",
   "metadata": {},
   "outputs": [
    {
     "data": {
      "text/plain": [
       "array([[[   1,    2,    3],\n",
       "        [   4,    5,    6]],\n",
       "\n",
       "       [[  12,    3, 1000],\n",
       "        [   5,    6,    7]]])"
      ]
     },
     "execution_count": 63,
     "metadata": {},
     "output_type": "execute_result"
    }
   ],
   "source": [
    "a1"
   ]
  },
  {
   "cell_type": "markdown",
   "id": "47e5b424",
   "metadata": {},
   "source": [
    "### 形状修改"
   ]
  },
  {
   "cell_type": "code",
   "execution_count": 64,
   "id": "ae9eb21e",
   "metadata": {},
   "outputs": [
    {
     "data": {
      "text/plain": [
       "array([[ 0.25594949, -1.37141501, -0.41852423,  0.95873791,  0.4769514 ,\n",
       "        -0.42673894,  0.46438859, -0.10951177,  0.2334775 ,  1.09137637],\n",
       "       [-0.19780501, -0.31461763, -1.93380606, -1.66440595,  0.75365106,\n",
       "         0.80790919, -0.44369265, -1.12029877,  1.71532302, -0.75643638],\n",
       "       [-0.33812471, -0.44511779, -0.25322201, -0.16815542,  0.39547258,\n",
       "         0.47809376,  0.37703507, -0.78379346,  0.43546219,  0.31451707],\n",
       "       [-1.19598198,  0.24493555, -0.45773324, -1.88567835, -0.66069587,\n",
       "        -1.73596803, -0.1010249 ,  1.06228399,  0.72021604, -1.06105947],\n",
       "       [-0.19310986,  0.50593332, -1.42034559,  1.09405051,  0.52517522,\n",
       "        -0.02364753,  0.77815216, -0.38544563,  2.01370775, -1.09890749],\n",
       "       [ 0.68576783, -0.40621061,  1.33567621, -0.20315253,  0.1598831 ,\n",
       "        -0.1777447 ,  0.14547799, -0.16043988, -0.78390297,  0.30704506],\n",
       "       [ 0.58480742,  0.8304774 ,  1.53800405,  2.38534172,  0.97896556,\n",
       "        -1.18766115, -0.356624  ,  0.8636289 , -0.17068458,  1.00031938],\n",
       "       [-0.10572339, -0.00831815, -1.39598632, -0.72291749, -0.33248217,\n",
       "        -0.98722321,  0.51729792, -0.81392012, -1.52368075,  0.88368132]])"
      ]
     },
     "execution_count": 64,
     "metadata": {},
     "output_type": "execute_result"
    }
   ],
   "source": [
    "# 让刚才的股票行，日期列反过来，变成日期行，股票列\n",
    "stock_change"
   ]
  },
  {
   "cell_type": "code",
   "execution_count": 65,
   "id": "759cbb80",
   "metadata": {},
   "outputs": [
    {
     "data": {
      "text/plain": [
       "(8, 10)"
      ]
     },
     "execution_count": 65,
     "metadata": {},
     "output_type": "execute_result"
    }
   ],
   "source": [
    "stock_change.shape"
   ]
  },
  {
   "cell_type": "code",
   "execution_count": 66,
   "id": "f01843de",
   "metadata": {},
   "outputs": [
    {
     "data": {
      "text/plain": [
       "array([[ 0.25594949, -1.37141501, -0.41852423,  0.95873791,  0.4769514 ,\n",
       "        -0.42673894,  0.46438859, -0.10951177],\n",
       "       [ 0.2334775 ,  1.09137637, -0.19780501, -0.31461763, -1.93380606,\n",
       "        -1.66440595,  0.75365106,  0.80790919],\n",
       "       [-0.44369265, -1.12029877,  1.71532302, -0.75643638, -0.33812471,\n",
       "        -0.44511779, -0.25322201, -0.16815542],\n",
       "       [ 0.39547258,  0.47809376,  0.37703507, -0.78379346,  0.43546219,\n",
       "         0.31451707, -1.19598198,  0.24493555],\n",
       "       [-0.45773324, -1.88567835, -0.66069587, -1.73596803, -0.1010249 ,\n",
       "         1.06228399,  0.72021604, -1.06105947],\n",
       "       [-0.19310986,  0.50593332, -1.42034559,  1.09405051,  0.52517522,\n",
       "        -0.02364753,  0.77815216, -0.38544563],\n",
       "       [ 2.01370775, -1.09890749,  0.68576783, -0.40621061,  1.33567621,\n",
       "        -0.20315253,  0.1598831 , -0.1777447 ],\n",
       "       [ 0.14547799, -0.16043988, -0.78390297,  0.30704506,  0.58480742,\n",
       "         0.8304774 ,  1.53800405,  2.38534172],\n",
       "       [ 0.97896556, -1.18766115, -0.356624  ,  0.8636289 , -0.17068458,\n",
       "         1.00031938, -0.10572339, -0.00831815],\n",
       "       [-1.39598632, -0.72291749, -0.33248217, -0.98722321,  0.51729792,\n",
       "        -0.81392012, -1.52368075,  0.88368132]])"
      ]
     },
     "execution_count": 66,
     "metadata": {},
     "output_type": "execute_result"
    }
   ],
   "source": [
    "stock_change.reshape((10,8))"
   ]
  },
  {
   "cell_type": "code",
   "execution_count": 67,
   "id": "3d0bc466",
   "metadata": {},
   "outputs": [],
   "source": [
    "stock_change.resize((10, 8))"
   ]
  },
  {
   "cell_type": "code",
   "execution_count": 68,
   "id": "77588ff8",
   "metadata": {},
   "outputs": [
    {
     "data": {
      "text/plain": [
       "(10, 8)"
      ]
     },
     "execution_count": 68,
     "metadata": {},
     "output_type": "execute_result"
    }
   ],
   "source": [
    "stock_change.shape"
   ]
  },
  {
   "cell_type": "code",
   "execution_count": 69,
   "id": "404f1b77",
   "metadata": {},
   "outputs": [
    {
     "data": {
      "text/plain": [
       "array([[ 0.25594949,  0.2334775 , -0.44369265,  0.39547258, -0.45773324,\n",
       "        -0.19310986,  2.01370775,  0.14547799,  0.97896556, -1.39598632],\n",
       "       [-1.37141501,  1.09137637, -1.12029877,  0.47809376, -1.88567835,\n",
       "         0.50593332, -1.09890749, -0.16043988, -1.18766115, -0.72291749],\n",
       "       [-0.41852423, -0.19780501,  1.71532302,  0.37703507, -0.66069587,\n",
       "        -1.42034559,  0.68576783, -0.78390297, -0.356624  , -0.33248217],\n",
       "       [ 0.95873791, -0.31461763, -0.75643638, -0.78379346, -1.73596803,\n",
       "         1.09405051, -0.40621061,  0.30704506,  0.8636289 , -0.98722321],\n",
       "       [ 0.4769514 , -1.93380606, -0.33812471,  0.43546219, -0.1010249 ,\n",
       "         0.52517522,  1.33567621,  0.58480742, -0.17068458,  0.51729792],\n",
       "       [-0.42673894, -1.66440595, -0.44511779,  0.31451707,  1.06228399,\n",
       "        -0.02364753, -0.20315253,  0.8304774 ,  1.00031938, -0.81392012],\n",
       "       [ 0.46438859,  0.75365106, -0.25322201, -1.19598198,  0.72021604,\n",
       "         0.77815216,  0.1598831 ,  1.53800405, -0.10572339, -1.52368075],\n",
       "       [-0.10951177,  0.80790919, -0.16815542,  0.24493555, -1.06105947,\n",
       "        -0.38544563, -0.1777447 ,  2.38534172, -0.00831815,  0.88368132]])"
      ]
     },
     "execution_count": 69,
     "metadata": {},
     "output_type": "execute_result"
    }
   ],
   "source": [
    "stock_change.T"
   ]
  },
  {
   "cell_type": "markdown",
   "id": "abc57248",
   "metadata": {},
   "source": [
    "### 类型的修改"
   ]
  },
  {
   "cell_type": "code",
   "execution_count": 70,
   "id": "b8f5b94d",
   "metadata": {},
   "outputs": [
    {
     "data": {
      "text/plain": [
       "array([[ 0, -1,  0,  0,  0,  0,  0,  0],\n",
       "       [ 0,  1,  0,  0, -1, -1,  0,  0],\n",
       "       [ 0, -1,  1,  0,  0,  0,  0,  0],\n",
       "       [ 0,  0,  0,  0,  0,  0, -1,  0],\n",
       "       [ 0, -1,  0, -1,  0,  1,  0, -1],\n",
       "       [ 0,  0, -1,  1,  0,  0,  0,  0],\n",
       "       [ 2, -1,  0,  0,  1,  0,  0,  0],\n",
       "       [ 0,  0,  0,  0,  0,  0,  1,  2],\n",
       "       [ 0, -1,  0,  0,  0,  1,  0,  0],\n",
       "       [-1,  0,  0,  0,  0,  0, -1,  0]])"
      ]
     },
     "execution_count": 70,
     "metadata": {},
     "output_type": "execute_result"
    }
   ],
   "source": [
    "stock_change.astype(\"int32\")"
   ]
  },
  {
   "cell_type": "code",
   "execution_count": 71,
   "id": "4d57a874",
   "metadata": {},
   "outputs": [
    {
     "name": "stderr",
     "output_type": "stream",
     "text": [
      "<ipython-input-71-59b79ffdfcba>:1: DeprecationWarning: tostring() is deprecated. Use tobytes() instead.\n",
      "  stock_change.tostring()\n"
     ]
    },
    {
     "data": {
      "text/plain": [
       "b'\\x84\\x9eK\\xfbya\\xd0?\\xd3\\xf6\\x03\\xddP\\xf1\\xf5\\xbf\\x9aG\\x1c\\xdb\\x19\\xc9\\xda\\xbf\\x81\\x86\\xb3 \\xfb\\xad\\xee?2\\xe0\\xd7*_\\x86\\xde?v\\xc6\\x9a\\xd9\\xb0O\\xdb\\xbf\\x02q\\x90\\xea\\x8a\\xb8\\xdd?h7-\\x8f\\xf6\\x08\\xbc\\xbf\\xb6\\x0c\\x93A\\x97\\xe2\\xcd?DL\\x98\\x11Gv\\xf1?\\xdf\\n2\\xb1\\xacQ\\xc9\\xbf\\x86\\xaf\\x0f\\xf8\\xb1\"\\xd4\\xbf\\x82\\x0e\\x9e\\xa0\\xde\\xf0\\xfe\\xbf\\x06\\xa5-\"h\\xa1\\xfa\\xbf<\\xd5=\\xd6\\xe8\\x1d\\xe8?O(\\x17bd\\xda\\xe9?\\xed\\xab\\xe9\\xdfue\\xdc\\xbf\\x06\\xe9Hf\\xbe\\xec\\xf1\\xbf\\xc7\\xdc2\\x8e\\xf6q\\xfb?\\xd8o\\x82\\x13\\xba4\\xe8\\xbf\\x97u\\xd3\\xd6\\xd5\\xa3\\xd5\\xbf\\xd1\\x07\\x82W\\xcf|\\xdc\\xbf\\xf9\\xae\\xba\\x16\\xca4\\xd0\\xbf6h\\x9f\\xe2\\x1d\\x86\\xc5\\xbf\\xf6?$=lO\\xd9?\\xd7\\x89\\x88\\x8e\\x16\\x99\\xde?\\x7f\\xe1\\x1b\\xb9W!\\xd8?\\xe2A\\x8f\\x05\\xd6\\x14\\xe9\\xbf\\x1e\\xd1\\xb7\\xd1\\x9c\\xde\\xdb?i2o8\\x0c!\\xd4?G\\xa9\\x19\\xff\\xbd\"\\xf3\\xbf\\x84\\x16qS\\x0cZ\\xcf?L\\x81\\x91Z\\x80K\\xdd\\xbf\\xd5\\xaa\\x9b\\x0e\\xbd+\\xfe\\xbf6VI\\xa9k$\\xe5\\xbf\\x81\\xef\\x00j\\x86\\xc6\\xfb\\xbf\\x15\\x95 \\x8a\\xc4\\xdc\\xb9\\xbf\\xef\\xd8.~\\x1d\\xff\\xf0?`\\xaa*\\x83\\x02\\x0c\\xe7?)G\\x84}\\x19\\xfa\\xf0\\xbf8\\x0c\\xb9\\xed\\xd2\\xb7\\xc8\\xbf\\x9d\\xf9\\xbc\\x12\\x9b0\\xe0??\\x03\\nL\\xbc\\xb9\\xf6\\xbfw\\xc8 \\x1b;\\x81\\xf1?\\xb8-\\xb8@<\\xce\\xe0?2\\xa9\\xa9\\xef\\x0e7\\x98\\xbf\\x8d\\x91\\x02]\\x9f\\xe6\\xe8?\\xcd8\\x88$$\\xab\\xd8\\xbf6\\x10`\\xcf\\x12\\x1c\\x00@\\x16\\x93\\x0c\\x05 \\x95\\xf1\\xbf\\xec\\xd7\\xf8`\\xcf\\xf1\\xe5?\\xc4\\xd2F\\xc4Z\\xff\\xd9\\xbf\\xa4\\x02t\\x05\\xee^\\xf5?\\xd6Ys\\xf4\\xe6\\x00\\xca\\xbf\\xf5\\xa4\\xaa\\x9e\\x0cw\\xc4?\\xf30\\xb6\\x98V\\xc0\\xc6\\xbf\\xb0\\xfaU\\xd0\\x05\\x9f\\xc2?m\\xeb\\xcfKK\\x89\\xc4\\xbfnA\\xfe\\xab\\xbb\\x15\\xe9\\xbfJ9\\xbaM\\xa0\\xa6\\xd3?\\x8a\\x99\\xc5\\n\\xbe\\xb6\\xe2?\\x84\\xd2{UE\\x93\\xea?\\xef\\xf8\\xee!\\xaa\\x9b\\xf8?}w\\x8b\\n.\\x15\\x03@OGs\\x92\\xafS\\xef?\\xf0\\x84U\\xfa\\xa8\\x00\\xf3\\xbf\\xdb2\\xefy\\xed\\xd2\\xd6\\xbf\\x9ap\\xc6\\x15\\xd9\\xa2\\xeb?jI\\xbf\\x08\\xfe\\xd8\\xc5\\xbf\\xab\\xe8\\xdc\\xe3N\\x01\\xf0?\\xae\\x92l\\x1d\\xb0\\x10\\xbb\\xbf\"\\xac\\xd6J\\x1b\\t\\x81\\xbf\\xbb\\xe1^\\xc1\\xf5U\\xf6\\xbf\\xc2\\xc5(\\xdd#\"\\xe7\\xbf\\xcf\\xa9\\xf5OcG\\xd5\\xbf\\xeb\\xe3\\xca!U\\x97\\xef\\xbfL`1_\\xb4\\x8d\\xe0?\\xb9\\xb6\\xd92\\xa2\\x0b\\xea\\xbf\\x17\\xbdl\\x11\\xff`\\xf8\\xbf<\\x84p\\x0b\\x1eG\\xec?'"
      ]
     },
     "execution_count": 71,
     "metadata": {},
     "output_type": "execute_result"
    }
   ],
   "source": [
    "stock_change.tostring()"
   ]
  },
  {
   "cell_type": "markdown",
   "id": "3c5c1c86",
   "metadata": {},
   "source": [
    "### 数组的去重"
   ]
  },
  {
   "cell_type": "code",
   "execution_count": 73,
   "id": "7526bea4",
   "metadata": {},
   "outputs": [
    {
     "data": {
      "text/plain": [
       "{1, 2, 3, 4, 5, 6}"
      ]
     },
     "execution_count": 73,
     "metadata": {},
     "output_type": "execute_result"
    }
   ],
   "source": [
    "temp = np.array([[1, 2, 3, 4],[3, 4, 5, 6]])\n",
    "np.unique(temp)\n",
    "set(temp.flatten())"
   ]
  },
  {
   "cell_type": "code",
   "execution_count": null,
   "id": "4f3511f5",
   "metadata": {},
   "outputs": [],
   "source": []
  }
 ],
 "metadata": {
  "kernelspec": {
   "display_name": "Python 3",
   "language": "python",
   "name": "python3"
  },
  "language_info": {
   "codemirror_mode": {
    "name": "ipython",
    "version": 3
   },
   "file_extension": ".py",
   "mimetype": "text/x-python",
   "name": "python",
   "nbconvert_exporter": "python",
   "pygments_lexer": "ipython3",
   "version": "3.8.6"
  }
 },
 "nbformat": 4,
 "nbformat_minor": 5
}
